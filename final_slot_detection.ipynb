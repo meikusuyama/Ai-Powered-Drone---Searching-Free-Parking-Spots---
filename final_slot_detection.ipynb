{
 "cells": [
  {
   "cell_type": "code",
   "execution_count": 9,
   "metadata": {},
   "outputs": [
    {
     "name": "stdout",
     "output_type": "stream",
     "text": [
      "/Users/meikusuyama/Downloads/DroneProject/select_slot_coordinates\n"
     ]
    }
   ],
   "source": [
    "import os\n",
    "HOME = os.getcwd()\n",
    "print(HOME)"
   ]
  },
  {
   "cell_type": "code",
   "execution_count": 10,
   "metadata": {},
   "outputs": [],
   "source": [
    "import numpy as np\n",
    "import cv2"
   ]
  },
  {
   "cell_type": "code",
   "execution_count": 11,
   "metadata": {},
   "outputs": [],
   "source": [
    "camera = cv2.VideoCapture(\"test2.mp4\")  #video / camera footage the model will run on\n"
   ]
  },
  {
   "cell_type": "code",
   "execution_count": 12,
   "metadata": {},
   "outputs": [],
   "source": [
    "from ultralytics import YOLO\n",
    "\n",
    "from IPython.display import display, Image"
   ]
  },
  {
   "cell_type": "code",
   "execution_count": 13,
   "metadata": {},
   "outputs": [
    {
     "name": "stdout",
     "output_type": "stream",
     "text": [
      "./runs/detect/train5/weights/best.pt\n"
     ]
    }
   ],
   "source": [
    "\n",
    "model=YOLO('runs/detect/train5/weights/best.pt')       #model detects parking spots and draws boxes around them\n",
    "                                                        #classifies whether the box is free or not with the confidence level\n"
   ]
  },
  {
   "cell_type": "code",
   "execution_count": null,
   "metadata": {},
   "outputs": [],
   "source": []
  },
  {
   "cell_type": "code",
   "execution_count": 14,
   "metadata": {},
   "outputs": [
    {
     "name": "stderr",
     "output_type": "stream",
     "text": [
      "2025-07-10 23:31:56.646 Python[32433:6975382] Warning: Window move completed without beginning\n"
     ]
    },
    {
     "name": "stdout",
     "output_type": "stream",
     "text": [
      "[ERROR] Failed to initialize camera.\n"
     ]
    }
   ],
   "source": [
    "while True:\n",
    "    \n",
    "    ret, frame = camera.read()\n",
    "\n",
    "    if not ret:\n",
    "        \n",
    "        print(\"[ERROR] Failed to initialize camera.\")\n",
    "        cv2.destroyAllWindows()\n",
    "        break\n",
    "\n",
    "    fixed_width = 1300  # or any width you want\n",
    "    aspect_ratio = frame.shape[0] / frame.shape[1]  # height / width\n",
    "\n",
    "    new_height = int(fixed_width * aspect_ratio)        #to fit the window\n",
    "    frame = cv2.resize(frame, (fixed_width, new_height), interpolation=cv2.INTER_AREA)\n",
    "\n",
    "    import tempfile\n",
    "    \n",
    "    with tempfile.NamedTemporaryFile(suffix=\".jpg\", delete=False) as tmp:\n",
    "        cv2.imwrite(tmp.name, frame)\n",
    "        results = model.predict(source=tmp.name, conf=0.25, save=False, verbose=False)\n",
    "\n",
    "\n",
    "    annotated = results[0].plot()\n",
    "\n",
    "    cv2.imshow(\"Live Detection\", annotated)\n",
    "\n",
    "    key=cv2.waitKey(1)\n",
    "\n",
    "    if key%256 == 27:# ESC\n",
    "        print(\"[INFO] Camera terminated.\")\n",
    "        cv2.destroyAllWindows()\n",
    "        break\n"
   ]
  },
  {
   "cell_type": "code",
   "execution_count": 15,
   "metadata": {},
   "outputs": [],
   "source": [
    "camera.release()\n"
   ]
  },
  {
   "cell_type": "code",
   "execution_count": null,
   "metadata": {},
   "outputs": [],
   "source": []
  }
 ],
 "metadata": {
  "kernelspec": {
   "display_name": "Python (YOLOvenv311)",
   "language": "python",
   "name": "yolovenv311"
  },
  "language_info": {
   "codemirror_mode": {
    "name": "ipython",
    "version": 3
   },
   "file_extension": ".py",
   "mimetype": "text/x-python",
   "name": "python",
   "nbconvert_exporter": "python",
   "pygments_lexer": "ipython3",
   "version": "3.11.12"
  }
 },
 "nbformat": 4,
 "nbformat_minor": 2
}
